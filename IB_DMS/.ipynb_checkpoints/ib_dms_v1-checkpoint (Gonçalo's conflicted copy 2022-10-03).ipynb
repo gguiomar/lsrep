{
 "cells": [
  {
   "cell_type": "code",
   "execution_count": 1,
   "id": "9e4de950",
   "metadata": {},
   "outputs": [],
   "source": [
    "import numpy as np\n",
    "import matplotlib.pyplot as plt\n",
    "%matplotlib inline"
   ]
  },
  {
   "cell_type": "markdown",
   "id": "47bcfcc7",
   "metadata": {
    "tags": []
   },
   "source": [
    "## Full set of equations\n",
    "\n",
    "We take the observable state $s$ to live in a discretized field of $N$ total states that are sampled uniformely at each iteration and $z$ to be a binary variable that is zero in one half of the state distribution and one in the other half.\n",
    "\n",
    "* $d(s,z) = KL[\\pi(a|s)||\\pi(a|z)]$\n",
    "* $p(z) = \\sum_s p(s)\\rho(z|s)$\n",
    "    * $ = \\tau \\sum_s \\rho(z|s)$\n",
    "* $Z(s,\\beta) = \\sum_z p(z) e^{-\\beta d(s,z)}$\n",
    "* $p(s) = \\tau$, we define the observed state distribution as an uniform distribution\n",
    "* $\\pi(a|s)$ - we define this distribution as the optimal solution to the problem\n",
    "* $\\rho(z|s) = \\frac{p(z)}{Z(s,\\beta)}e^{-\\beta d(z,s)}$\n",
    "* $\\rho(s|z) \\propto \\rho(z|s) p(s)$\n",
    "* $\\pi(a|z) = \\sum_a \\pi(a|s)\\rho(s|z)$  \n",
    "\n",
    "## Algorithm steps:\n",
    "\n",
    "\n",
    "### Goals:\n",
    "\n",
    "1. Prove that this set of equations converge to what's expected in $\\pi(a|z)$\n",
    "\n",
    "### Tasks:\n",
    "1. Rederive the set of iterative equations "
   ]
  },
  {
   "cell_type": "code",
   "execution_count": 2,
   "id": "bb528244",
   "metadata": {},
   "outputs": [],
   "source": [
    "# auxiliary functions\n",
    "\n",
    "def KL_div(pi_s, pi_z):\n",
    "    # pi_s[a,s], pi_z[a,z]\n",
    "    \n",
    "    kldiv = 0\n",
    "    for s in range(n_states):\n",
    "        for z in range(n_latent):\n",
    "            for a in range(n_actions):\n",
    "                kldiv += pi_s[a, s] * np.log(pi_s[a,s]/pi_z[a,z])\n",
    "    return kldiv\n",
    "\n",
    "def get_d_sz(pi_s,pi_z):\n",
    "    # pi_s[a,s], pi_z[a,z]\n",
    "    \n",
    "    d_sz = np.zeros((n_states, n_latent))\n",
    "    for s in range(n_states):\n",
    "        for z in range(n_latent):\n",
    "            for a in range(n_actions):\n",
    "                d_sz[s,z] += pi_s[a, s] * np.log(pi_s[a,s]/pi_z[a,z])\n",
    "                \n",
    "    return d_sz"
   ]
  },
  {
   "cell_type": "code",
   "execution_count": 3,
   "id": "b7afb350",
   "metadata": {},
   "outputs": [
    {
     "data": {
      "image/png": "[encoded data removed]",
      "text/plain": [
       "<Figure size 432x288 with 1 Axes>"
      ]
     },
     "metadata": {
      "needs_background": "light"
     },
     "output_type": "display_data"
    },
    {
     "data": {
      "image/png": "[encoded data removed]",
      "text/plain": [
       "<Figure size 432x288 with 1 Axes>"
      ]
     },
     "metadata": {
      "needs_background": "light"
     },
     "output_type": "display_data"
    }
   ],
   "source": [
    "# global variables\n",
    "n_states = 10 # definition of s\n",
    "n_latent = 2 # definition of z\n",
    "n_actions = 2 # definition of a\n",
    "n_steps = 1000 # number of iterative steps\n",
    "\n",
    "# iterative functions\n",
    "p_s = 1/n_states # uniform probability for each state\n",
    "p_z = np.array([0.5,0.5])\n",
    "\n",
    "pi_s = 0.001 * np.ones((n_actions, n_states))\n",
    "pi_z = np.random.uniform(0,0.01,(n_actions, n_latent))\n",
    "\n",
    "d_sz = np.zeros((n_states, n_latent))\n",
    "Z_sb = np.zeros((n_states))\n",
    "\n",
    "rho_sz = np.zeros((n_states, n_latent))\n",
    "rho_zs = np.zeros((n_latent, n_states))\n",
    "\n",
    "pi_s[0,0:int(n_states/2)] = 1\n",
    "pi_s[1,int(n_states/2):n_states] = 1\n",
    "plt.imshow(pi_s)\n",
    "plt.show()\n",
    "plt.imshow(pi_z)\n",
    "plt.show()"
   ]
  },
  {
   "cell_type": "code",
   "execution_count": 4,
   "id": "478b5015",
   "metadata": {},
   "outputs": [],
   "source": [
    "beta = 0.2\n",
    "\n",
    "kldiv_h = []\n",
    "\n",
    "p_z_h = []\n",
    "pi_z_h = []\n",
    "rho_zs_h = []\n",
    "\n",
    "print_vars = False\n",
    "\n",
    "for t in range(10):\n",
    "    d_sz = get_d_sz(pi_s, pi_z)\n",
    "    \n",
    "\n",
    "    \n",
    "    # update Z_sb\n",
    "    for s in range(n_states):\n",
    "        for z in range(n_latent):\n",
    "            Z_sb[s] += p_z[z] * np.exp(-beta * d_sz[s,z])\n",
    "\n",
    "\n",
    "    \n",
    "    # update rho_zs\n",
    "    for z in range(n_latent):\n",
    "        for s in range(n_states):\n",
    "            rho_zs[z,s] = (p_z[z]/Z_sb[s]) * np.exp(-beta * d_sz[s,z])\n",
    "    \n",
    "\n",
    "    \n",
    "    # update p_z\n",
    "    for z in range(n_latent):\n",
    "        for s in range(n_states):\n",
    "            p_z[z] += rho_zs[z,s] * p_s\n",
    "            \n",
    "    Z_pz = 0        \n",
    "    for z in range(n_latent):\n",
    "        Z_pz += p_z[z] * n_states\n",
    "        \n",
    "    # normalize p_z\n",
    "    for z in range(n_latent):\n",
    "        p_z[z] = p_z[z]/Z_pz \n",
    "    \n",
    "\n",
    "    \n",
    "    # update pi_z\n",
    "    for a in range(n_actions):\n",
    "        for z in range(n_latent):\n",
    "            for s in range(n_states):\n",
    "                pi_z[a,z] += pi_s[a,s] * rho_zs[z,s] * p_s\n",
    "    \n",
    "    if print_vars == True:\n",
    "        print('------------')\n",
    "        print('d_sz')\n",
    "        print(d_sz)\n",
    "        print('------------')\n",
    "        print('Z_sb')\n",
    "        print(Z_sb)\n",
    "        print('------------')\n",
    "        print('rho_zs')\n",
    "        print(rho_zs)\n",
    "        print('------------')\n",
    "        print('p_z')\n",
    "        print(p_z)\n",
    "    \n",
    "    # keeping the histories\n",
    "    p_z_h.append(p_z)\n",
    "    rho_zs_h.append(rho_zs)\n",
    "    pi_z_h.append(pi_z)\n",
    "    kldiv_h.append(KL_div(pi_s, pi_z))\n",
    "    \n",
    "p_z_h = np.asarray(p_z_h)\n",
    "rho_zs_h = np.asarray(rho_zs_h)\n",
    "pi_z_h = np.asarray(pi_z_h)"
   ]
  },
  {
   "cell_type": "code",
   "execution_count": 5,
   "id": "b5119441",
   "metadata": {},
   "outputs": [
    {
     "data": {
      "text/plain": [
       "[<matplotlib.lines.Line2D at 0x7f1d6f5f8c50>]"
      ]
     },
     "execution_count": 5,
     "metadata": {},
     "output_type": "execute_result"
    },
    {
     "data": {
      "image/png": "[encoded data removed]",
      "text/plain": [
       "<Figure size 432x288 with 1 Axes>"
      ]
     },
     "metadata": {
      "needs_background": "light"
     },
     "output_type": "display_data"
    }
   ],
   "source": [
    "plt.plot(kldiv_h)"
   ]
  },
  {
   "cell_type": "code",
   "execution_count": 6,
   "id": "1b5b6e09",
   "metadata": {},
   "outputs": [
    {
     "data": {
      "text/plain": [
       "[<matplotlib.lines.Line2D at 0x7f1d6f5c37b8>]"
      ]
     },
     "execution_count": 6,
     "metadata": {},
     "output_type": "execute_result"
    },
    {
     "data": {
      "image/png": "[encoded data removed]",
      "text/plain": [
       "<Figure size 432x288 with 1 Axes>"
      ]
     },
     "metadata": {
      "needs_background": "light"
     },
     "output_type": "display_data"
    }
   ],
   "source": [
    "plt.plot(p_z_h[:,0])\n",
    "plt.plot(p_z_h[:,1])"
   ]
  },
  {
   "cell_type": "code",
   "execution_count": 7,
   "id": "e285360a",
   "metadata": {},
   "outputs": [
    {
     "data": {
      "image/png": "[encoded data removed]",
      "text/plain": [
       "<Figure size 432x288 with 1 Axes>"
      ]
     },
     "metadata": {
      "needs_background": "light"
     },
     "output_type": "display_data"
    },
    {
     "data": {
      "image/png": "[encoded data removed]",
      "text/plain": [
       "<Figure size 432x288 with 1 Axes>"
      ]
     },
     "metadata": {
      "needs_background": "light"
     },
     "output_type": "display_data"
    }
   ],
   "source": [
    "for z in range(n_latent):\n",
    "    plt.plot(pi_z_h[:,0,z])\n",
    "plt.show()\n",
    "for z in range(n_latent):\n",
    "    plt.plot(pi_z_h[:,1,z])\n",
    "plt.show()"
   ]
  },
  {
   "cell_type": "code",
   "execution_count": 8,
   "id": "0969158b",
   "metadata": {},
   "outputs": [
    {
     "data": {
      "image/png": "[encoded data removed]",
      "text/plain": [
       "<Figure size 432x288 with 1 Axes>"
      ]
     },
     "metadata": {
      "needs_background": "light"
     },
     "output_type": "display_data"
    },
    {
     "data": {
      "image/png": "[encoded data removed]",
      "text/plain": [
       "<Figure size 432x288 with 1 Axes>"
      ]
     },
     "metadata": {
      "needs_background": "light"
     },
     "output_type": "display_data"
    }
   ],
   "source": [
    "for s in range(n_states):\n",
    "    plt.plot(rho_zs_h[:,0,s])\n",
    "plt.show()\n",
    "for s in range(n_states):\n",
    "    plt.plot(rho_zs_h[:,1,s])\n",
    "plt.show()"
   ]
  },
  {
   "cell_type": "markdown",
   "id": "e8009ce7",
   "metadata": {},
   "source": [
    "# checking optimal policies for $d(s,z)$"
   ]
  },
  {
   "cell_type": "code",
   "execution_count": 9,
   "id": "fbeb83c6",
   "metadata": {},
   "outputs": [
    {
     "name": "stdout",
     "output_type": "stream",
     "text": [
      "[[1.    1.    1.    1.    1.    0.001 0.001 0.001 0.001 0.001]\n",
      " [0.001 0.001 0.001 0.001 0.001 1.    1.    1.    1.    1.   ]]\n"
     ]
    },
    {
     "data": {
      "image/png": "[encoded data removed]",
      "text/plain": [
       "<Figure size 432x288 with 1 Axes>"
      ]
     },
     "metadata": {
      "needs_background": "light"
     },
     "output_type": "display_data"
    },
    {
     "data": {
      "image/png": "[encoded data removed]",
      "text/plain": [
       "<Figure size 432x288 with 1 Axes>"
      ]
     },
     "metadata": {
      "needs_background": "light"
     },
     "output_type": "display_data"
    },
    {
     "name": "stdout",
     "output_type": "stream",
     "text": [
      "[[-2.12121131e-03  4.81717550e+00]\n",
      " [-2.12121131e-03  4.81717550e+00]\n",
      " [-2.12121131e-03  4.81717550e+00]\n",
      " [-2.12121131e-03  4.81717550e+00]\n",
      " [-2.12121131e-03  4.81717550e+00]\n",
      " [ 4.77963621e+00 -2.08367203e-03]\n",
      " [ 4.77963621e+00 -2.08367203e-03]\n",
      " [ 4.77963621e+00 -2.08367203e-03]\n",
      " [ 4.77963621e+00 -2.08367203e-03]\n",
      " [ 4.77963621e+00 -2.08367203e-03]]\n",
      "13.290807788886509\n"
     ]
    }
   ],
   "source": [
    "# optimal pi_z\n",
    "print(pi_s)\n",
    "plt.imshow(pi_s)\n",
    "plt.show()\n",
    "\n",
    "pi_z_opt = np.random.uniform(0,0.01,(n_actions, n_latent))\n",
    "pi_z_opt[0,0] = 1\n",
    "pi_z_opt[1,1] = 1\n",
    "plt.imshow(pi_z_opt)\n",
    "plt.show()\n",
    "\n",
    "# checking that our solution would make sense\n",
    "print(get_d_sz(pi_s, pi_z_opt))\n",
    "print(KL_div(pi_s, pi_z))"
   ]
  },
  {
   "cell_type": "code",
   "execution_count": 134,
   "id": "a7bc9861",
   "metadata": {},
   "outputs": [
    {
     "name": "stdout",
     "output_type": "stream",
     "text": [
      "0 0 0 0.6729004018798446\n",
      "0 0 1 -6.3210984872322085\n",
      "0 1 0 0.6727110245578267\n",
      "0 1 1 -6.2559237292459455\n",
      "1 0 0 0.6729004018798446\n",
      "1 0 1 -6.3210984872322085\n",
      "1 1 0 0.6727110245578267\n",
      "1 1 1 -6.2559237292459455\n",
      "2 0 0 0.6729004018798446\n",
      "2 0 1 -6.3210984872322085\n",
      "2 1 0 0.6727110245578267\n",
      "2 1 1 -6.2559237292459455\n",
      "3 0 0 0.6729004018798446\n",
      "3 0 1 -6.3210984872322085\n",
      "3 1 0 0.6727110245578267\n",
      "3 1 1 -6.2559237292459455\n",
      "4 0 0 0.6729004018798446\n",
      "4 0 1 -6.3210984872322085\n",
      "4 1 0 0.6727110245578267\n",
      "4 1 1 -6.2559237292459455\n",
      "5 0 0 -6.2348548771022925\n",
      "5 0 1 0.5866567917499289\n",
      "5 1 0 -6.23504425442431\n",
      "5 1 1 0.6518315497361918\n",
      "6 0 0 -6.2348548771022925\n",
      "6 0 1 0.5866567917499289\n",
      "6 1 0 -6.23504425442431\n",
      "6 1 1 0.6518315497361918\n",
      "7 0 0 -6.2348548771022925\n",
      "7 0 1 0.5866567917499289\n",
      "7 1 0 -6.23504425442431\n",
      "7 1 1 0.6518315497361918\n",
      "8 0 0 -6.2348548771022925\n",
      "8 0 1 0.5866567917499289\n",
      "8 1 0 -6.23504425442431\n",
      "8 1 1 0.6518315497361918\n",
      "9 0 0 -6.2348548771022925\n",
      "9 0 1 0.5866567917499289\n",
      "9 1 0 -6.23504425442431\n",
      "9 1 1 0.6518315497361918\n"
     ]
    }
   ],
   "source": [
    "for s in range(n_states):\n",
    "    for z in range(n_latent):\n",
    "        for a in range(n_actions):\n",
    "            print(s,z,a, np.log(pi_s[a,s]/pi_z[a,z]))"
   ]
  }
 ],
 "metadata": {
  "kernelspec": {
   "display_name": "Python 3",
   "language": "python",
   "name": "python3"
  },
  "language_info": {
   "codemirror_mode": {
    "name": "ipython",
    "version": 3
   },
   "file_extension": ".py",
   "mimetype": "text/x-python",
   "name": "python",
   "nbconvert_exporter": "python",
   "pygments_lexer": "ipython3",
   "version": "3.6.13"
  }
 },
 "nbformat": 4,
 "nbformat_minor": 5
}
