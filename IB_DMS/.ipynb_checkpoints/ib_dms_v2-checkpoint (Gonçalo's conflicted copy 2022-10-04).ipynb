{
 "cells": [
  {
   "cell_type": "code",
   "execution_count": 1,
   "id": "cf13570d",
   "metadata": {},
   "outputs": [],
   "source": [
    "import numpy as np\n",
    "import matplotlib.pyplot as plt\n",
    "plt.rcParams.update({'font.size': 22})\n",
    "%matplotlib inline"
   ]
  },
  {
   "cell_type": "markdown",
   "id": "fdb76fff",
   "metadata": {
    "tags": []
   },
   "source": [
    "## Full set of equations\n",
    "\n",
    "We take the observable state $s$ to live in a discretized field of $N$ total states that are sampled uniformely at each iteration and $z$ to be a binary variable that is zero in one half of the state distribution and one in the other half.\n",
    "\n",
    "* $d(s,z) = KL[\\pi(a|s)||\\pi(a|z)]$\n",
    "* $p(z) = \\sum_s p(s)\\rho(z|s)$\n",
    "    * $ = \\tau \\sum_s \\rho(z|s)$\n",
    "* $Z(s,\\beta) = \\sum_z p(z) e^{-\\beta d(s,z)}$\n",
    "* $p(s) = \\tau$, we define the observed state distribution as an uniform distribution\n",
    "* $\\pi(a|s)$ - we define this distribution as the optimal solution to the problem\n",
    "* $\\rho(z|s) = \\frac{p(z)}{Z(s,\\beta)}e^{-\\beta d(z,s)}$\n",
    "* $\\rho(s|z) \\propto \\rho(z|s) p(s)$\n",
    "* $\\pi(a|z) = \\sum_a \\pi(a|s)\\rho(s|z)$  \n",
    "\n",
    "## Algorithm steps:\n",
    "\n",
    "\n",
    "### Goals:\n",
    "\n",
    "1. Prove that this set of equations converge to what's expected in $\\pi(a|z)$\n",
    "\n",
    "### Tasks:\n",
    "1. Rederive the set of iterative equations "
   ]
  },
  {
   "cell_type": "code",
   "execution_count": 2,
   "id": "1da75489",
   "metadata": {},
   "outputs": [],
   "source": [
    "# auxiliary functions\n",
    "\n",
    "def KL_div(pi_s, pi_z):\n",
    "    # pi_s[a,s], pi_z[a,z]\n",
    "    \n",
    "    kldiv = 0\n",
    "    \n",
    "    n_states = pi_s.shape[1]\n",
    "    n_latent = pi_z.shape[1]\n",
    "    n_actions = pi_s.shape[0]\n",
    "    \n",
    "    for s in range(n_states):\n",
    "        for z in range(n_latent):\n",
    "            for a in range(n_actions):\n",
    "                kldiv += pi_s[a, s] * np.log(pi_s[a,s]/pi_z[a,z])\n",
    "    return kldiv\n",
    "\n",
    "def get_d_sz(pi_s,pi_z):\n",
    "    # pi_s[a,s], pi_z[a,z]\n",
    "    \n",
    "    n_states = pi_s.shape[1]\n",
    "    n_latent = pi_z.shape[1]\n",
    "    n_actions = pi_s.shape[0]\n",
    "    \n",
    "    d_sz = np.zeros((n_states, n_latent))\n",
    "    for s in range(n_states):\n",
    "        for z in range(n_latent):\n",
    "            for a in range(n_actions):\n",
    "                d_sz[s,z] += pi_s[a, s] * np.log(pi_s[a,s]/pi_z[a,z])\n",
    "                \n",
    "    return d_sz\n",
    "\n",
    "def normalize_dist(dist):\n",
    "    return dist/np.sum(dist)\n",
    "\n",
    "def get_KL_psz(pi_s, pi_z, p_sz):\n",
    "    kldiv = 0\n",
    "    n_states = pi_s.shape[1]\n",
    "    n_latent = pi_z.shape[1]\n",
    "    n_actions = pi_s.shape[0]\n",
    "    \n",
    "    for s in range(n_states):\n",
    "        for z in range(n_latent):\n",
    "            for a in range(n_actions):\n",
    "                kldiv += p_sz[s,z] * pi_s[a, s] * np.log(pi_s[a,s]/pi_z[a,z])\n",
    "    return kldiv\n",
    "\n",
    "def get_d_sz_psz(pi_s, pi_z, p_sz):\n",
    "    # pi_s[a,s], pi_z[a,z]\n",
    "    n_states = pi_s.shape[1]\n",
    "    n_latent = pi_z.shape[1]\n",
    "    n_actions = pi_s.shape[0]\n",
    "    \n",
    "    d_sz = np.zeros((n_states, n_latent))\n",
    "    for s in range(n_states):\n",
    "        for z in range(n_latent):\n",
    "            for a in range(n_actions):\n",
    "                d_sz[s,z] += p_sz[s,z] * pi_s[a, s] * np.log(pi_s[a,s]/pi_z[a,z])\n",
    "                \n",
    "    return d_sz"
   ]
  },
  {
   "cell_type": "code",
   "execution_count": null,
   "id": "f7216397",
   "metadata": {},
   "outputs": [
    {
     "data": {
      "image/png": "[encoded data removed]",
      "text/plain": [
       "<Figure size 432x288 with 1 Axes>"
      ]
     },
     "metadata": {
      "needs_background": "light"
     },
     "output_type": "display_data"
    },
    {
     "data": {
      "image/png": "[encoded data removed]",
      "text/plain": [
       "<Figure size 432x288 with 1 Axes>"
      ]
     },
     "metadata": {
      "needs_background": "light"
     },
     "output_type": "display_data"
    }
   ],
   "source": [
    "# global variables\n",
    "n_states = 10 # definition of s\n",
    "n_latent = 2 # definition of z\n",
    "n_actions = 2 # definition of a\n",
    "\n",
    "# iterative functions\n",
    "p_s = 1/n_states # uniform probability for each state\n",
    "p_z = np.array([0.5,0.5])\n",
    "\n",
    "pi_s = 0.001 * np.ones((n_actions, n_states))\n",
    "pi_z = np.random.uniform(0,0.01,(n_actions, n_latent))\n",
    "\n",
    "d_sz = np.zeros((n_states, n_latent))\n",
    "Z_sb = np.zeros((n_states))\n",
    "\n",
    "rho_sz = np.zeros((n_states, n_latent))\n",
    "rho_zs = np.zeros((n_latent, n_states))\n",
    "\n",
    "pi_s[0,0:int(n_states/2)] = 1\n",
    "pi_s[1,int(n_states/2):n_states] = 1\n",
    "\n",
    "pi_s = normalize_dist(pi_s)\n",
    "\n",
    "plt.imshow(pi_s)\n",
    "plt.show()\n",
    "plt.imshow(pi_z)\n",
    "plt.show()\n",
    "\n",
    "\n",
    "# defining the p(s,z) joint distribution - later try it out with gaussian\n",
    "p_sz = np.zeros((n_states, n_latent))\n",
    "p_sz[:,0] = pi_s[0,:]\n",
    "p_sz[:,1] = pi_s[1,:]\n",
    "\n",
    "plt.imshow(p_sz)\n",
    "\n",
    "# -------\n",
    "\n",
    "beta = 0.5\n",
    "n_steps = 50000 # number of iterative steps\n",
    "\n",
    "kldiv_h = []\n",
    "\n",
    "p_z_h = []\n",
    "pi_z_h = []\n",
    "rho_zs_h = []\n",
    "d_sz_h = []\n",
    "z_sb_h = []\n",
    "\n",
    "print_vars = False\n",
    "\n",
    "#pi_z = normalize_dist(pi_z)\n",
    "\n",
    "pi_s_h = []\n",
    "\n",
    "for t in range(n_steps):\n",
    "    #d_sz = get_d_sz(pi_s, pi_z)\n",
    "    d_sz = get_d_sz_psz(pi_s, pi_z, p_sz)\n",
    "    d_sz_h.append(d_sz)\n",
    "\n",
    "        \n",
    "    # update Z_sb\n",
    "    for s in range(n_states):\n",
    "        for z in range(n_latent):\n",
    "            Z_sb[s] += p_z[z] * np.exp(-beta * d_sz[s,z])\n",
    "    \n",
    "    # update rho_zs\n",
    "    for z in range(n_latent):\n",
    "        for s in range(n_states):\n",
    "            rho_zs[z,s] = (p_z[z]/Z_sb[s]) * np.exp(-beta * d_sz[s,z])\n",
    "    \n",
    "    \n",
    "    rho_zs = normalize_dist(rho_zs) # adding this normalization screws things up\n",
    "    \n",
    "    # update p_z\n",
    "    # what does it mean for this problem for p_z to be updated?\n",
    "    \n",
    "    for z in range(n_latent):\n",
    "        for s in range(n_states):\n",
    "            p_z[z] += rho_zs[z,s] * p_s\n",
    "    \n",
    "    p_z = normalize_dist(p_z)\n",
    "    \n",
    "    # update pi_z\n",
    "    for a in range(n_actions):\n",
    "        for z in range(n_latent):\n",
    "            for s in range(n_states):\n",
    "                pi_z[a,z] += pi_s[a,s] * rho_zs[z,s] * p_s\n",
    "    \n",
    "    pi_z = normalize_dist(pi_z)\n",
    "    \n",
    "    \n",
    "    if print_vars == True:\n",
    "        print('------------')\n",
    "        print('d_sz')\n",
    "        print(d_sz)\n",
    "        print('------------')\n",
    "        print('Z_sb')\n",
    "        print(Z_sb)\n",
    "        print('------------')\n",
    "        print('rho_zs')\n",
    "        print(rho_zs)\n",
    "        print('------------')\n",
    "        print('p_z')\n",
    "        print(p_z)\n",
    "    \n",
    "    # keeping the histories\n",
    "    p_z_h.append(p_z)\n",
    "    rho_zs_h.append(rho_zs)\n",
    "    pi_z_h.append(pi_z)\n",
    "    kldiv_h.append(KL_div(pi_s, pi_z))\n",
    "    z_sb_h.append(Z_sb)\n",
    "    pi_s_h.append(pi_s)\n",
    "    \n",
    "p_z_h = np.asarray(p_z_h)\n",
    "rho_zs_h = np.asarray(rho_zs_h)\n",
    "pi_z_h = np.asarray(pi_z_h)\n",
    "pi_s_h = np.asarray(pi_s_h)\n",
    "kldiv_h = np.asarray(kldiv_h)\n",
    "z_sb_h = np.asarray(z_sb_h)"
   ]
  },
  {
   "cell_type": "code",
   "execution_count": null,
   "id": "141b6df8",
   "metadata": {},
   "outputs": [],
   "source": [
    "plt.rcParams.update({'font.size': 17})\n",
    "ax = plt.subplot(111)\n",
    "ax.plot(kldiv_h, 'k')\n",
    "ax.set_xlabel('step')\n",
    "ax.set_ylabel('$KL[\\pi_s||\\pi_z]$')\n",
    "ax.spines['right'].set_visible(False)\n",
    "ax.spines['top'].set_visible(False)\n",
    "plt.show()"
   ]
  },
  {
   "cell_type": "code",
   "execution_count": null,
   "id": "9d6000f8",
   "metadata": {},
   "outputs": [],
   "source": [
    "ax = plt.subplot(111)\n",
    "ax.plot(pi_z_h[:,0,0], 'k', label = 'a = 0')\n",
    "ax.plot(pi_z_h[:,0,1], 'k--', label = 'a = 1')\n",
    "ax.set_xlabel('step')\n",
    "ax.set_ylabel('$\\pi_z(a|0)$')\n",
    "ax.spines['right'].set_visible(False)\n",
    "ax.spines['top'].set_visible(False)\n",
    "ax.legend()\n",
    "plt.show()\n",
    "\n",
    "ax = plt.subplot(111)\n",
    "ax.plot(pi_z_h[:,1,0], 'k', label = 'a = 0')\n",
    "ax.plot(pi_z_h[:,1,1], 'k--',label = 'a = 1')\n",
    "ax.set_xlabel('step')\n",
    "ax.set_ylabel('$\\pi_z(a|1)$')\n",
    "ax.spines['right'].set_visible(False)\n",
    "ax.spines['top'].set_visible(False)\n",
    "ax.legend()\n",
    "plt.show()"
   ]
  },
  {
   "cell_type": "code",
   "execution_count": null,
   "id": "13c7ef81",
   "metadata": {},
   "outputs": [],
   "source": [
    "plt.imshow(rho_zs_h[-1,:,:])"
   ]
  },
  {
   "cell_type": "code",
   "execution_count": null,
   "id": "1f500c74",
   "metadata": {},
   "outputs": [],
   "source": [
    "plt.imshow(pi_s, cmap = 'Blues')\n",
    "plt.ylabel('a')\n",
    "plt.xlabel('s')\n",
    "plt.xticks(np.linspace(0,9,10))\n",
    "plt.show()\n",
    "plt.imshow(pi_z, cmap = 'Blues')\n",
    "plt.ylabel('a')\n",
    "plt.xlabel('z')\n",
    "plt.yticks([0,1])\n",
    "plt.xticks([0,1])\n",
    "plt.show()"
   ]
  },
  {
   "cell_type": "markdown",
   "id": "0ddf7746",
   "metadata": {},
   "source": [
    "## undersanding the distance metric $d(s,z)$ for optimal policies"
   ]
  },
  {
   "cell_type": "code",
   "execution_count": 18,
   "id": "fe2fb69b",
   "metadata": {},
   "outputs": [
    {
     "name": "stdout",
     "output_type": "stream",
     "text": [
      "[[9.99000999e-02 9.99000999e-02 9.99000999e-02 9.99000999e-02\n",
      "  9.99000999e-02 9.99000999e-05 9.99000999e-05 9.99000999e-05\n",
      "  9.99000999e-05 9.99000999e-05]\n",
      " [9.99000999e-05 9.99000999e-05 9.99000999e-05 9.99000999e-05\n",
      "  9.99000999e-05 9.99000999e-02 9.99000999e-02 9.99000999e-02\n",
      "  9.99000999e-02 9.99000999e-02]]\n"
     ]
    },
    {
     "data": {
      "image/png": "[encoded data removed]",
      "text/plain": [
       "<Figure size 432x288 with 1 Axes>"
      ]
     },
     "metadata": {
      "needs_background": "light"
     },
     "output_type": "display_data"
    },
    {
     "data": {
      "image/png": "[encoded data removed]",
      "text/plain": [
       "<Figure size 432x288 with 1 Axes>"
      ]
     },
     "metadata": {
      "needs_background": "light"
     },
     "output_type": "display_data"
    },
    {
     "name": "stdout",
     "output_type": "stream",
     "text": [
      "0.9999999999999998 1.0\n",
      "[[-0.16045441  0.33227515]\n",
      " [-0.16045441  0.33227515]\n",
      " [-0.16045441  0.33227515]\n",
      " [-0.16045441  0.33227515]\n",
      " [-0.16045441  0.33227515]\n",
      " [ 0.30872464 -0.16043086]\n",
      " [ 0.30872464 -0.16043086]\n",
      " [ 0.30872464 -0.16043086]\n",
      " [ 0.30872464 -0.16043086]\n",
      " [ 0.30872464 -0.16043086]]\n",
      "-1.8483672420600905\n"
     ]
    }
   ],
   "source": [
    "# optimal pi_z\n",
    "print(pi_s)\n",
    "plt.imshow(pi_s)\n",
    "plt.show()\n",
    "\n",
    "pi_z_opt = np.random.uniform(0,0.01,(n_actions, n_latent))\n",
    "pi_z_opt[0,0] = 1\n",
    "pi_z_opt[1,1] = 1\n",
    "pi_z_opt = normalize_dist(pi_z_opt)\n",
    "plt.imshow(pi_z_opt)\n",
    "plt.show()\n",
    "\n",
    "print(np.sum(pi_s), np.sum(pi_z_opt))\n",
    "\n",
    "# checking that our solution would make sense\n",
    "print(get_d_sz(pi_s, pi_z_opt))\n",
    "print(KL_div(pi_s, pi_z))"
   ]
  },
  {
   "cell_type": "markdown",
   "id": "a5d44240",
   "metadata": {},
   "source": [
    "* the distance metric is not convex at the point where we want it to be\n",
    "* it doesn't seem to matter where we place the latent state optimal solution as it ignores the spatial structure of the distribution"
   ]
  },
  {
   "cell_type": "code",
   "execution_count": 19,
   "id": "721feacf",
   "metadata": {},
   "outputs": [
    {
     "name": "stderr",
     "output_type": "stream",
     "text": [
      "/home/gongui/anaconda3/envs/py36/lib/python3.6/site-packages/ipykernel_launcher.py:15: RuntimeWarning: divide by zero encountered in double_scalars\n",
      "  from ipykernel import kernelapp as app\n"
     ]
    }
   ],
   "source": [
    "n_grid = 20\n",
    "d_map = np.zeros((n_grid,n_grid))\n",
    "pi_z_opt = np.random.uniform(0,0.01,(n_actions, n_latent))\n",
    "\n",
    "for i, alpha in enumerate(np.linspace(0,1,n_grid)):\n",
    "    for j, beta in enumerate(np.linspace(0,1,n_grid)):\n",
    "        pi_z_opt[0,0] = beta\n",
    "        pi_z_opt[1,1] = (1-beta)\n",
    "        pi_z_opt[1,0] = alpha\n",
    "        pi_z_opt[0,1] = (1-alpha)\n",
    "        d_map[i,j] = KL_div(pi_s, pi_z_opt)"
   ]
  },
  {
   "cell_type": "code",
   "execution_count": 41,
   "id": "f031bc41",
   "metadata": {},
   "outputs": [
    {
     "data": {
      "text/plain": [
       "<matplotlib.image.AxesImage at 0x7f8bf4108b38>"
      ]
     },
     "execution_count": 41,
     "metadata": {},
     "output_type": "execute_result"
    },
    {
     "data": {
      "image/png": "[encoded data removed]",
      "text/plain": [
       "<Figure size 432x288 with 1 Axes>"
      ]
     },
     "metadata": {
      "needs_background": "light"
     },
     "output_type": "display_data"
    }
   ],
   "source": [
    "plt.imshow(d_map)"
   ]
  },
  {
   "cell_type": "code",
   "execution_count": 59,
   "id": "0e834fa2",
   "metadata": {},
   "outputs": [],
   "source": [
    "pi_z_opt = np.random.uniform(0,0.01,(n_actions, n_latent))\n",
    "pi_z_opt[0,0] = 1\n",
    "pi_z_opt[1,1] = 1\n",
    "\n",
    "#pi_z_opt[1,0] = 1\n",
    "#pi_z_opt[0,1] = 1\n",
    "pi_z_opt = normalize_dist(pi_z_opt)\n",
    "d_sz = get_d_sz(pi_s, pi_z_opt)"
   ]
  },
  {
   "cell_type": "code",
   "execution_count": 61,
   "id": "966dfb6f",
   "metadata": {},
   "outputs": [
    {
     "data": {
      "text/plain": [
       "<matplotlib.image.AxesImage at 0x7f8bf3bda898>"
      ]
     },
     "execution_count": 61,
     "metadata": {},
     "output_type": "execute_result"
    },
    {
     "data": {
      "image/png": "[encoded data removed]",
      "text/plain": [
       "<Figure size 432x288 with 1 Axes>"
      ]
     },
     "metadata": {
      "needs_background": "light"
     },
     "output_type": "display_data"
    }
   ],
   "source": [
    "plt.imshow(d_sz)"
   ]
  },
  {
   "cell_type": "markdown",
   "id": "32492550",
   "metadata": {},
   "source": [
    "### map $d(s,z)$ with $\\langle K[\\pi_s||\\pi_z] \\rangle_{p(s,z)}$\n",
    "* uniform prior\n",
    "* gaussian prior\n",
    "\n",
    "then calculate the map d_sz for the gaussian as well"
   ]
  },
  {
   "cell_type": "code",
   "execution_count": 61,
   "id": "6153c190",
   "metadata": {},
   "outputs": [],
   "source": [
    "# first we need to define what p(s,z) is\n",
    "# we can just check if the KL changes just by adding this average"
   ]
  },
  {
   "cell_type": "code",
   "execution_count": 37,
   "id": "be4ff3cd",
   "metadata": {},
   "outputs": [],
   "source": [
    "p_sz = np.zeros((n_states, n_latent))\n",
    "p_sz[:,0] = pi_s[0,:]\n",
    "p_sz[:,1] = pi_s[1,:]"
   ]
  },
  {
   "cell_type": "code",
   "execution_count": 36,
   "id": "ab5f2d19",
   "metadata": {},
   "outputs": [
    {
     "data": {
      "text/plain": [
       "<matplotlib.image.AxesImage at 0x7fdddc095f28>"
      ]
     },
     "execution_count": 36,
     "metadata": {},
     "output_type": "execute_result"
    },
    {
     "data": {
      "image/png": "[encoded data removed]",
      "text/plain": [
       "<Figure size 432x288 with 1 Axes>"
      ]
     },
     "metadata": {
      "needs_background": "light"
     },
     "output_type": "display_data"
    }
   ],
   "source": [
    "plt.imshow(p_sz)"
   ]
  },
  {
   "cell_type": "code",
   "execution_count": 7,
   "id": "a9f0a1bc",
   "metadata": {},
   "outputs": [],
   "source": [
    "d_psz = get_d_sz_psz(pi_s, pi_z, p_sz)"
   ]
  },
  {
   "cell_type": "code",
   "execution_count": 8,
   "id": "b964aed5",
   "metadata": {},
   "outputs": [
    {
     "data": {
      "text/plain": [
       "<matplotlib.image.AxesImage at 0x119688908>"
      ]
     },
     "execution_count": 8,
     "metadata": {},
     "output_type": "execute_result"
    },
    {
     "data": {
      "image/png": "[encoded data removed]",
      "text/plain": [
       "<Figure size 432x288 with 1 Axes>"
      ]
     },
     "metadata": {
      "needs_background": "light"
     },
     "output_type": "display_data"
    }
   ],
   "source": [
    "plt.imshow(p_sz)"
   ]
  },
  {
   "cell_type": "code",
   "execution_count": 60,
   "id": "d4e06a05",
   "metadata": {},
   "outputs": [
    {
     "name": "stderr",
     "output_type": "stream",
     "text": [
      "/home/gongui/anaconda3/envs/py36/lib/python3.6/site-packages/ipykernel_launcher.py:6: RuntimeWarning: divide by zero encountered in double_scalars\n",
      "  \n"
     ]
    },
    {
     "data": {
      "text/plain": [
       "<matplotlib.image.AxesImage at 0x7fdddbf86f98>"
      ]
     },
     "execution_count": 60,
     "metadata": {},
     "output_type": "execute_result"
    },
    {
     "data": {
      "image/png": "[encoded data removed]",
      "text/plain": [
       "<Figure size 432x288 with 1 Axes>"
      ]
     },
     "metadata": {
      "needs_background": "light"
     },
     "output_type": "display_data"
    }
   ],
   "source": [
    "n_grid = 20\n",
    "d_map = np.zeros((n_grid,n_grid))\n",
    "pi_z_opt = np.random.uniform(0,0.01,(n_actions, n_latent))\n",
    "\n",
    "for i, alpha in enumerate(np.linspace(0,1,n_grid)):\n",
    "    for j, beta in enumerate(np.linspace(0,1,n_grid)):\n",
    "        pi_z_opt[0,0] = beta\n",
    "        pi_z_opt[1,1] = (1-beta)\n",
    "        pi_z_opt[1,0] = alpha\n",
    "        pi_z_opt[0,1] = (1-alpha)\n",
    "        d_map[i,j] = get_KL_psz(pi_s, pi_z_opt, p_sz)\n",
    "plt.imshow(d_map)"
   ]
  },
  {
   "cell_type": "markdown",
   "id": "87111865",
   "metadata": {},
   "source": [
    "## TODO\n",
    "\n",
    "* figure out why KL div is not converging if $\\pi_z$ is stabilising, what's changing?\n",
    "* create the figure for the simulations for both cases in the overleaf\n",
    "* what can we learn from the maps of $d(s,z)$?"
   ]
  },
  {
   "cell_type": "code",
   "execution_count": null,
   "id": "85126870",
   "metadata": {},
   "outputs": [],
   "source": []
  }
 ],
 "metadata": {
  "kernelspec": {
   "display_name": "Python 3",
   "language": "python",
   "name": "python3"
  },
  "language_info": {
   "codemirror_mode": {
    "name": "ipython",
    "version": 3
   },
   "file_extension": ".py",
   "mimetype": "text/x-python",
   "name": "python",
   "nbconvert_exporter": "python",
   "pygments_lexer": "ipython3",
   "version": "3.6.13"
  }
 },
 "nbformat": 4,
 "nbformat_minor": 5
}
