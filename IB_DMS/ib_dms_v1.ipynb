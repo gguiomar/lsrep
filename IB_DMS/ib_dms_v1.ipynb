{
 "cells": [
  {
   "cell_type": "code",
   "execution_count": 1,
   "id": "7c7fe5d1",
   "metadata": {},
   "outputs": [],
   "source": [
    "import numpy as np\n",
    "import matplotlib.pyplot as plt\n",
    "%matplotlib inline"
   ]
  },
  {
   "cell_type": "markdown",
   "id": "a4215543",
   "metadata": {
    "tags": []
   },
   "source": [
    "## Full set of equations\n",
    "\n",
    "We take the observable state $s$ to live in a discretized field of $N$ total states that are sampled uniformely at each iteration and $z$ to be a binary variable that is zero in one half of the state distribution and one in the other half.\n",
    "\n",
    "* $d(s,z) = KL[\\pi(a|s)||\\pi(a|z)]$\n",
    "* $p(z) = \\sum_s p(s)\\rho(z|s)$\n",
    "    * $ = \\tau \\sum_s \\rho(z|s)$\n",
    "* $Z(s,\\beta) = \\sum_z p(z) e^{-\\beta d(s,z)}$\n",
    "* $p(s) = \\tau$, we define the observed state distribution as an uniform distribution\n",
    "* $\\pi(a|s)$ - we define this distribution as the optimal solution to the problem\n",
    "* $\\rho(z|s) = \\frac{p(z)}{Z(s,\\beta)}e^{-\\beta d(z,s)}$\n",
    "* $\\rho(s|z) \\propto \\rho(z|s) p(s)$\n",
    "* $\\pi(a|z) = \\sum_a \\pi(a|s)\\rho(s|z)$  \n",
    "\n",
    "## Algorithm steps:\n",
    "\n",
    "\n",
    "### Goals:\n",
    "\n",
    "1. Prove that this set of equations converge to what's expected in $\\pi(a|z)$\n",
    "\n",
    "### Tasks:\n",
    "1. Rederive the set of iterative equations "
   ]
  },
  {
   "cell_type": "code",
   "execution_count": 16,
   "id": "8e7ebbfd",
   "metadata": {},
   "outputs": [],
   "source": [
    "# auxiliary functions\n",
    "\n",
    "def KL_div(pi_s, pi_z):\n",
    "    # pi_s[a,s], pi_z[a,z]\n",
    "    \n",
    "    kldiv = 0\n",
    "    for s in range(n_states):\n",
    "        for z in range(n_latent):\n",
    "            for a in range(n_actions):\n",
    "                kldiv += pi_s[a, s] * np.log(pi_s[a,s]/pi_z[a,z])\n",
    "    return kldiv\n",
    "\n",
    "def get_d_sz(pi_s,pi_z):\n",
    "    # pi_s[a,s], pi_z[a,z]\n",
    "    \n",
    "    d_sz = np.zeros((n_states, n_latent))\n",
    "    for s in range(n_states):\n",
    "        for z in range(n_latent):\n",
    "            for a in range(n_actions):\n",
    "                d_sz[s,z] += pi_s[a, s] * np.log(pi_s[a,s]/pi_z[a,z])\n",
    "                \n",
    "    return d_sz\n",
    "\n",
    "def normalize_dist(dist):\n",
    "    return dist/np.sum(dist)"
   ]
  },
  {
   "cell_type": "code",
   "execution_count": 20,
   "id": "056006ef",
   "metadata": {},
   "outputs": [
    {
     "data": {
      "image/png": "[encoded data removed]",
      "text/plain": [
       "<Figure size 432x288 with 1 Axes>"
      ]
     },
     "metadata": {
      "needs_background": "light"
     },
     "output_type": "display_data"
    },
    {
     "data": {
      "image/png": "[encoded data removed]",
      "text/plain": [
       "<Figure size 432x288 with 1 Axes>"
      ]
     },
     "metadata": {
      "needs_background": "light"
     },
     "output_type": "display_data"
    }
   ],
   "source": [
    "# global variables\n",
    "n_states = 10 # definition of s\n",
    "n_latent = 2 # definition of z\n",
    "n_actions = 2 # definition of a\n",
    "n_steps = 1000 # number of iterative steps\n",
    "\n",
    "# iterative functions\n",
    "p_s = 1/n_states # uniform probability for each state\n",
    "p_z = np.array([0.5,0.5])\n",
    "\n",
    "pi_s = 0.001 * np.ones((n_actions, n_states))\n",
    "pi_z = np.random.uniform(0,0.01,(n_actions, n_latent))\n",
    "\n",
    "d_sz = np.zeros((n_states, n_latent))\n",
    "Z_sb = np.zeros((n_states))\n",
    "\n",
    "rho_sz = np.zeros((n_states, n_latent))\n",
    "rho_zs = np.zeros((n_latent, n_states))\n",
    "\n",
    "pi_s[0,0:int(n_states/2)] = 1\n",
    "pi_s[1,int(n_states/2):n_states] = 1\n",
    "plt.imshow(pi_s)\n",
    "plt.show()\n",
    "plt.imshow(pi_z)\n",
    "plt.show()"
   ]
  },
  {
   "cell_type": "code",
   "execution_count": 21,
   "id": "8e166aa3",
   "metadata": {},
   "outputs": [],
   "source": [
    "beta = 0.2\n",
    "\n",
    "kldiv_h = []\n",
    "\n",
    "p_z_h = []\n",
    "pi_z_h = []\n",
    "rho_zs_h = []\n",
    "\n",
    "print_vars = False\n",
    "\n",
    "pi_s = normalize_dist(pi_s)\n",
    "\n",
    "for t in range(10):\n",
    "    d_sz = get_d_sz(pi_s, pi_z)\n",
    "        \n",
    "    # update Z_sb\n",
    "    for s in range(n_states):\n",
    "        for z in range(n_latent):\n",
    "            Z_sb[s] += p_z[z] * np.exp(-beta * d_sz[s,z])\n",
    "\n",
    "\n",
    "    # update rho_zs\n",
    "    for z in range(n_latent):\n",
    "        for s in range(n_states):\n",
    "            rho_zs[z,s] = (p_z[z]/Z_sb[s]) * np.exp(-beta * d_sz[s,z])\n",
    "    \n",
    "    rho_zs = normalize_dist(rho_zs)\n",
    "    \n",
    "    # update p_z\n",
    "    for z in range(n_latent):\n",
    "        for s in range(n_states):\n",
    "            p_z[z] += rho_zs[z,s] * p_s\n",
    "            \n",
    "    Z_pz = 0        \n",
    "    for z in range(n_latent):\n",
    "        Z_pz += p_z[z] * n_states\n",
    "        \n",
    "    # normalize p_z\n",
    "    for z in range(n_latent):\n",
    "        p_z[z] = p_z[z]/Z_pz \n",
    "    \n",
    "    p_z = normalize_dist(p_z)\n",
    "    \n",
    "    # update pi_z\n",
    "    for a in range(n_actions):\n",
    "        for z in range(n_latent):\n",
    "            for s in range(n_states):\n",
    "                pi_z[a,z] += pi_s[a,s] * rho_zs[z,s] * p_s\n",
    "    \n",
    "    pi_z = normalize_dist(pi_z)\n",
    "    \n",
    "    if print_vars == True:\n",
    "        print('------------')\n",
    "        print('d_sz')\n",
    "        print(d_sz)\n",
    "        print('------------')\n",
    "        print('Z_sb')\n",
    "        print(Z_sb)\n",
    "        print('------------')\n",
    "        print('rho_zs')\n",
    "        print(rho_zs)\n",
    "        print('------------')\n",
    "        print('p_z')\n",
    "        print(p_z)\n",
    "    \n",
    "    # keeping the histories\n",
    "    p_z_h.append(p_z)\n",
    "    rho_zs_h.append(rho_zs)\n",
    "    pi_z_h.append(pi_z)\n",
    "    kldiv_h.append(KL_div(pi_s, pi_z))\n",
    "    \n",
    "p_z_h = np.asarray(p_z_h)\n",
    "rho_zs_h = np.asarray(rho_zs_h)\n",
    "pi_z_h = np.asarray(pi_z_h)"
   ]
  },
  {
   "cell_type": "code",
   "execution_count": 22,
   "id": "dc2c7e6f",
   "metadata": {},
   "outputs": [
    {
     "data": {
      "text/plain": [
       "[<matplotlib.lines.Line2D at 0x125c1f668>]"
      ]
     },
     "execution_count": 22,
     "metadata": {},
     "output_type": "execute_result"
    },
    {
     "data": {
      "image/png": "[encoded data removed]",
      "text/plain": [
       "<Figure size 432x288 with 1 Axes>"
      ]
     },
     "metadata": {
      "needs_background": "light"
     },
     "output_type": "display_data"
    }
   ],
   "source": [
    "plt.plot(kldiv_h)"
   ]
  },
  {
   "cell_type": "code",
   "execution_count": 6,
   "id": "dc015030",
   "metadata": {},
   "outputs": [
    {
     "data": {
      "text/plain": [
       "[<matplotlib.lines.Line2D at 0x1244a1c88>]"
      ]
     },
     "execution_count": 6,
     "metadata": {},
     "output_type": "execute_result"
    },
    {
     "data": {
      "image/png": "[encoded data removed]",
      "text/plain": [
       "<Figure size 432x288 with 1 Axes>"
      ]
     },
     "metadata": {
      "needs_background": "light"
     },
     "output_type": "display_data"
    }
   ],
   "source": [
    "plt.plot(p_z_h[:,0])\n",
    "plt.plot(p_z_h[:,1])"
   ]
  },
  {
   "cell_type": "code",
   "execution_count": 7,
   "id": "2dbbe245",
   "metadata": {},
   "outputs": [
    {
     "data": {
      "image/png": "[encoded data removed]",
      "text/plain": [
       "<Figure size 432x288 with 1 Axes>"
      ]
     },
     "metadata": {
      "needs_background": "light"
     },
     "output_type": "display_data"
    },
    {
     "data": {
      "image/png": "[encoded data removed]",
      "text/plain": [
       "<Figure size 432x288 with 1 Axes>"
      ]
     },
     "metadata": {
      "needs_background": "light"
     },
     "output_type": "display_data"
    }
   ],
   "source": [
    "for z in range(n_latent):\n",
    "    plt.plot(pi_z_h[:,0,z])\n",
    "plt.show()\n",
    "for z in range(n_latent):\n",
    "    plt.plot(pi_z_h[:,1,z])\n",
    "plt.show()"
   ]
  },
  {
   "cell_type": "code",
   "execution_count": 8,
   "id": "f7312066",
   "metadata": {},
   "outputs": [
    {
     "data": {
      "image/png": "[encoded data removed]",
      "text/plain": [
       "<Figure size 432x288 with 1 Axes>"
      ]
     },
     "metadata": {
      "needs_background": "light"
     },
     "output_type": "display_data"
    },
    {
     "data": {
      "image/png": "[encoded data removed]",
      "text/plain": [
       "<Figure size 432x288 with 1 Axes>"
      ]
     },
     "metadata": {
      "needs_background": "light"
     },
     "output_type": "display_data"
    }
   ],
   "source": [
    "for s in range(n_states):\n",
    "    plt.plot(rho_zs_h[:,0,s])\n",
    "plt.show()\n",
    "for s in range(n_states):\n",
    "    plt.plot(rho_zs_h[:,1,s])\n",
    "plt.show()"
   ]
  },
  {
   "cell_type": "code",
   "execution_count": 9,
   "id": "a0ccbdeb",
   "metadata": {},
   "outputs": [
    {
     "data": {
      "text/plain": [
       "array([[0.57588797, 0.5049704 ],\n",
       "       [0.50946595, 0.51905511]])"
      ]
     },
     "execution_count": 9,
     "metadata": {},
     "output_type": "execute_result"
    }
   ],
   "source": [
    "pi_z"
   ]
  },
  {
   "cell_type": "code",
   "execution_count": 10,
   "id": "632ab0fb",
   "metadata": {},
   "outputs": [
    {
     "data": {
      "text/plain": [
       "<matplotlib.image.AxesImage at 0x124ab0c18>"
      ]
     },
     "execution_count": 10,
     "metadata": {},
     "output_type": "execute_result"
    },
    {
     "data": {
      "image/png": "[encoded data removed]",
      "text/plain": [
       "<Figure size 432x288 with 1 Axes>"
      ]
     },
     "metadata": {
      "needs_background": "light"
     },
     "output_type": "display_data"
    }
   ],
   "source": [
    "plt.imshow(pi_z)"
   ]
  },
  {
   "cell_type": "code",
   "execution_count": 26,
   "id": "676ee3dd",
   "metadata": {},
   "outputs": [
    {
     "name": "stdout",
     "output_type": "stream",
     "text": [
      "[[9.99000999e-02 9.99000999e-02 9.99000999e-02 9.99000999e-02\n",
      "  9.99000999e-02 9.99000999e-05 9.99000999e-05 9.99000999e-05\n",
      "  9.99000999e-05 9.99000999e-05]\n",
      " [9.99000999e-05 9.99000999e-05 9.99000999e-05 9.99000999e-05\n",
      "  9.99000999e-05 9.99000999e-02 9.99000999e-02 9.99000999e-02\n",
      "  9.99000999e-02 9.99000999e-02]]\n"
     ]
    },
    {
     "data": {
      "image/png": "[encoded data removed]",
      "text/plain": [
       "<Figure size 432x288 with 1 Axes>"
      ]
     },
     "metadata": {
      "needs_background": "light"
     },
     "output_type": "display_data"
    },
    {
     "data": {
      "image/png": "[encoded data removed]",
      "text/plain": [
       "<Figure size 432x288 with 1 Axes>"
      ]
     },
     "metadata": {
      "needs_background": "light"
     },
     "output_type": "display_data"
    },
    {
     "name": "stdout",
     "output_type": "stream",
     "text": [
      "0.9999999999999998 1.0\n",
      "[[-0.16046391  0.32218569]\n",
      " [-0.16046391  0.32218569]\n",
      " [-0.16046391  0.32218569]\n",
      " [-0.16046391  0.32218569]\n",
      " [-0.16046391  0.32218569]\n",
      " [ 0.3234956  -0.16046522]\n",
      " [ 0.3234956  -0.16046522]\n",
      " [ 0.3234956  -0.16046522]\n",
      " [ 0.3234956  -0.16046522]\n",
      " [ 0.3234956  -0.16046522]]\n",
      "-1.7822943758114902\n"
     ]
    }
   ],
   "source": [
    "# optimal pi_z\n",
    "print(pi_s)\n",
    "plt.imshow(pi_s)\n",
    "plt.show()\n",
    "\n",
    "pi_z_opt = np.random.uniform(0,0.01,(n_actions, n_latent))\n",
    "pi_z_opt[0,0] = 1\n",
    "pi_z_opt[1,1] = 1\n",
    "pi_z_opt = normalize_dist(pi_z_opt)\n",
    "plt.imshow(pi_z_opt)\n",
    "plt.show()\n",
    "\n",
    "print(np.sum(pi_s), np.sum(pi_z_opt))\n",
    "\n",
    "# checking that our solution would make sense\n",
    "print(get_d_sz(pi_s, pi_z_opt))\n",
    "print(KL_div(pi_s, pi_z))"
   ]
  },
  {
   "cell_type": "markdown",
   "id": "781e85ef-62b8-4fad-8b61-67234416477a",
   "metadata": {},
   "source": [
    "* the distance metric is not convex at the point where we want it to be\n",
    "* it doesn't seem to matter where we place the latent state optimal solution as it ignores the spatial structure of the distribution"
   ]
  },
  {
   "cell_type": "code",
   "execution_count": 30,
   "id": "0fa59e03-b2de-4713-911e-bd0b74158f94",
   "metadata": {},
   "outputs": [
    {
     "data": {
      "text/plain": [
       "[<matplotlib.lines.Line2D at 0x124ae32b0>]"
      ]
     },
     "execution_count": 30,
     "metadata": {},
     "output_type": "execute_result"
    },
    {
     "data": {
      "image/png": "[encoded data removed]",
      "text/plain": [
       "<Figure size 432x288 with 1 Axes>"
      ]
     },
     "metadata": {
      "needs_background": "light"
     },
     "output_type": "display_data"
    }
   ],
   "source": [
    "plt.plot(np.log(np.linspace(0.001,1,100)))"
   ]
  },
  {
   "cell_type": "code",
   "execution_count": 31,
   "id": "612cc48f-4ba4-46ae-ac03-c6b39b435a6a",
   "metadata": {},
   "outputs": [
    {
     "data": {
      "text/plain": [
       "array([[9.99000999e-02, 9.99000999e-02, 9.99000999e-02, 9.99000999e-02,\n",
       "        9.99000999e-02, 9.99000999e-05, 9.99000999e-05, 9.99000999e-05,\n",
       "        9.99000999e-05, 9.99000999e-05],\n",
       "       [9.99000999e-05, 9.99000999e-05, 9.99000999e-05, 9.99000999e-05,\n",
       "        9.99000999e-05, 9.99000999e-02, 9.99000999e-02, 9.99000999e-02,\n",
       "        9.99000999e-02, 9.99000999e-02]])"
      ]
     },
     "execution_count": 31,
     "metadata": {},
     "output_type": "execute_result"
    }
   ],
   "source": [
    "pi_s"
   ]
  },
  {
   "cell_type": "code",
   "execution_count": 32,
   "id": "6583b7b0-e1a9-41b5-9bdd-0b4bd766000d",
   "metadata": {},
   "outputs": [
    {
     "data": {
      "text/plain": [
       "array([[0.49608801, 0.00393764],\n",
       "       [0.00388635, 0.49608801]])"
      ]
     },
     "execution_count": 32,
     "metadata": {},
     "output_type": "execute_result"
    }
   ],
   "source": [
    "pi_z_opt"
   ]
  },
  {
   "cell_type": "code",
   "execution_count": 33,
   "id": "5cdf28e4-d101-4e6a-9c7c-78c544640027",
   "metadata": {},
   "outputs": [],
   "source": [
    "log_ps = np.zeros((n_actions, n_states, n_latent))"
   ]
  },
  {
   "cell_type": "code",
   "execution_count": 35,
   "id": "1ade9833-298f-441d-9da8-9ce95212ebab",
   "metadata": {},
   "outputs": [],
   "source": [
    "for a in range(n_actions):\n",
    "    for s in range(n_states):\n",
    "        for z in range(n_latent):\n",
    "            log_ps[a,s,z] = np.log(pi_s[a,s]/pi_z_opt[a,z])"
   ]
  },
  {
   "cell_type": "code",
   "execution_count": 38,
   "id": "aa60d225-ee96-444c-bb3e-a39459c31b3b",
   "metadata": {},
   "outputs": [
    {
     "data": {
      "text/plain": [
       "array([[-3.66105397, -8.51033794],\n",
       "       [-3.66105397, -8.51033794],\n",
       "       [-3.66105397, -8.51033794],\n",
       "       [-3.66105397, -8.51033794],\n",
       "       [-3.66105397, -8.51033794],\n",
       "       [ 3.24670131, -1.60258266],\n",
       "       [ 3.24670131, -1.60258266],\n",
       "       [ 3.24670131, -1.60258266],\n",
       "       [ 3.24670131, -1.60258266],\n",
       "       [ 3.24670131, -1.60258266]])"
      ]
     },
     "execution_count": 38,
     "metadata": {},
     "output_type": "execute_result"
    }
   ],
   "source": [
    "log_ps[1,:,:]"
   ]
  },
  {
   "cell_type": "code",
   "execution_count": null,
   "id": "ba095bc6-c66d-42c2-9388-4d1d0f61b938",
   "metadata": {},
   "outputs": [],
   "source": []
  }
 ],
 "metadata": {
  "kernelspec": {
   "display_name": "Python 3",
   "language": "python",
   "name": "python3"
  },
  "language_info": {
   "codemirror_mode": {
    "name": "ipython",
    "version": 3
   },
   "file_extension": ".py",
   "mimetype": "text/x-python",
   "name": "python",
   "nbconvert_exporter": "python",
   "pygments_lexer": "ipython3",
   "version": "3.6.10"
  }
 },
 "nbformat": 4,
 "nbformat_minor": 5
}
