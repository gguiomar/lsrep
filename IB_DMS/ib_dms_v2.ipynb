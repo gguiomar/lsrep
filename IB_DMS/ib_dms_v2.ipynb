{
 "cells": [
  {
   "cell_type": "code",
   "execution_count": 1,
   "id": "332cb418",
   "metadata": {},
   "outputs": [],
   "source": [
    "import numpy as np\n",
    "import matplotlib.pyplot as plt\n",
    "from matplotlib.gridspec import GridSpec\n",
    "plt.rcParams.update({'font.size': 17})\n",
    "%matplotlib inline"
   ]
  },
  {
   "cell_type": "markdown",
   "id": "04415075",
   "metadata": {
    "tags": []
   },
   "source": [
    "## Full set of equations\n",
    "\n",
    "We take the observable state $s$ to live in a discretized field of $N$ total states that are sampled uniformely at each iteration and $z$ to be a binary variable that is zero in one half of the state distribution and one in the other half.\n",
    "\n",
    "* $d(s,z) = KL[\\pi(a|s)||\\pi(a|z)]$\n",
    "* $p(z) = \\sum_s p(s)\\rho(z|s)$\n",
    "    * $ = \\tau \\sum_s \\rho(z|s)$\n",
    "* $Z(s,\\beta) = \\sum_z p(z) e^{-\\beta d(s,z)}$\n",
    "* $p(s) = \\tau$, we define the observed state distribution as an uniform distribution\n",
    "* $\\pi(a|s)$ - we define this distribution as the optimal solution to the problem\n",
    "* $\\rho(z|s) = \\frac{p(z)}{Z(s,\\beta)}e^{-\\beta d(z,s)}$\n",
    "* $\\rho(s|z) \\propto \\rho(z|s) p(s)$\n",
    "* $\\pi(a|z) = \\sum_a \\pi(a|s)\\rho(s|z)$  \n",
    "\n",
    "## Algorithm steps:\n",
    "\n",
    "\n",
    "### Goals:\n",
    "\n",
    "1. Prove that this set of equations converge to what's expected in $\\pi(a|z)$\n",
    "\n",
    "### Tasks:\n",
    "1. Rederive the set of iterative equations "
   ]
  },
  {
   "cell_type": "code",
   "execution_count": 2,
   "id": "359bb192",
   "metadata": {},
   "outputs": [],
   "source": [
    "# auxiliary functions\n",
    "\n",
    "def KL_div(pi_s, pi_z):\n",
    "    # pi_s[a,s], pi_z[a,z]\n",
    "    \n",
    "    kldiv = 0\n",
    "    \n",
    "    n_states = pi_s.shape[1]\n",
    "    n_latent = pi_z.shape[1]\n",
    "    n_actions = pi_s.shape[0]\n",
    "    \n",
    "    for s in range(n_states):\n",
    "        for z in range(n_latent):\n",
    "            for a in range(n_actions):\n",
    "                kldiv += pi_z[a, z] * np.log(pi_z[a,z]/pi_s[a,s])\n",
    "    return kldiv\n",
    "\n",
    "def get_d_sz(pi_s,pi_z):\n",
    "    # pi_s[a,s], pi_z[a,z]\n",
    "    \n",
    "    n_states = pi_s.shape[1]\n",
    "    n_latent = pi_z.shape[1]\n",
    "    n_actions = pi_s.shape[0]\n",
    "    \n",
    "    d_sz = np.zeros((n_states, n_latent))\n",
    "    for s in range(n_states):\n",
    "        for z in range(n_latent):\n",
    "            for a in range(n_actions):\n",
    "                d_sz[s,z] += pi_z[a, z] * np.log(pi_z[a,z]/pi_s[a,s])\n",
    "    return d_sz\n",
    "\n",
    "def normalize_dist(dist):\n",
    "    return dist/np.sum(dist)"
   ]
  },
  {
   "cell_type": "code",
   "execution_count": 20,
   "id": "b564e6ca",
   "metadata": {
    "tags": []
   },
   "outputs": [
    {
     "name": "stdout",
     "output_type": "stream",
     "text": [
      "1.0 1.0\n"
     ]
    },
    {
     "data": {
      "image/png": "[encoded data removed]",
      "text/plain": [
       "<Figure size 504x504 with 3 Axes>"
      ]
     },
     "metadata": {
      "needs_background": "light"
     },
     "output_type": "display_data"
    },
    {
     "name": "stdout",
     "output_type": "stream",
     "text": [
      "1.0 1.0\n"
     ]
    },
    {
     "data": {
      "image/png": "[encoded data removed]",
      "text/plain": [
       "<Figure size 504x504 with 4 Axes>"
      ]
     },
     "metadata": {
      "needs_background": "light"
     },
     "output_type": "display_data"
    }
   ],
   "source": [
    "# global variables\n",
    "n_states = 4 # definition of s\n",
    "n_latent = 2 # definition of z\n",
    "n_actions = 2 # definition of a\n",
    "\n",
    "# iterative functions\n",
    "p_s = 1/n_states - 0.001 # uniform probability for each state - added help of normalization\n",
    "p_z = np.array([0.25,0.25])\n",
    "p_z = normalize_dist(p_z)\n",
    "\n",
    "pi_s = 0.001 * np.ones((n_actions, n_states))\n",
    "\n",
    "#pi_z = 0.001 * np.ones((n_actions, n_latent))\n",
    "#pi_z[0,0] = 0.1\n",
    "#pi_z[1,1] = 0.1\n",
    "#pi_z = normalize_dist(pi_z)\n",
    "\n",
    "pi_z = normalize_dist(np.random.uniform(0,1,(n_latent, n_actions)))\n",
    "\n",
    "d_sz = np.zeros((n_states, n_latent))\n",
    "Z_sb = np.zeros((n_states))\n",
    "\n",
    "rho_sz = np.zeros((n_states, n_latent))\n",
    "rho_zs = np.zeros((n_latent, n_states))\n",
    "\n",
    "pi_s[0,0:int(n_states/2)] = 1\n",
    "pi_s[1,int(n_states/2):n_states] = 1\n",
    "pi_s = normalize_dist(pi_s)\n",
    "\n",
    "# defining the p(s,z) joint distribution - later try it out with gaussian\n",
    "p_sz = np.zeros((n_states, n_latent))\n",
    "p_sz[:,0] = pi_s[0,:]\n",
    "p_sz[:,1] = pi_s[1,:]\n",
    "p_sz = normalize_dist(p_sz)\n",
    "\n",
    "p_sa = np.zeros((n_states, n_actions))\n",
    "p_sa[:,0] = pi_s[0,:]\n",
    "p_sa[:,1] = pi_s[1,:]\n",
    "p_sa = normalize_dist(p_sa)\n",
    "\n",
    "# -------\n",
    "\n",
    "kldiv_h = []\n",
    "\n",
    "p_z_h = []\n",
    "pi_z_h = []\n",
    "rho_zs_h = []\n",
    "d_sz_h = []\n",
    "z_sb_h = []\n",
    "\n",
    "print_vars = False\n",
    "check_norms = True\n",
    "pi_s_h = []\n",
    "\n",
    "print(p_z.sum(), pi_z.sum())\n",
    "\n",
    "fig = plt.figure(figsize = [7,7])\n",
    "\n",
    "gs = GridSpec(2, 2)\n",
    "ax1 = fig.add_subplot(gs[0])\n",
    "ax2 = fig.add_subplot(gs[1])\n",
    "ax3 = fig.add_subplot(gs[2])\n",
    "\n",
    "d_sz = get_d_sz(pi_s, pi_z)\n",
    "ax1.imshow(pi_s, cmap = 'Blues')\n",
    "ax2.imshow(pi_z, cmap = 'Blues')\n",
    "ax3.imshow(d_sz.T, cmap = 'Blues')\n",
    "ax1.set_title('pi_s')\n",
    "ax2.set_title('pi_z')\n",
    "ax3.set_title('d_sz')\n",
    "ax1.tick_params(labelbottom=False, labelleft=False)\n",
    "ax2.tick_params(labelbottom=False, labelleft=False)\n",
    "plt.show()\n",
    "\n",
    "# --------\n",
    "\n",
    "beta = 2\n",
    "n_steps = 1000 # number of iterative steps\n",
    "\n",
    "print(p_z.sum(), pi_z.sum())\n",
    "\n",
    "for t in range(n_steps):\n",
    "    \n",
    "    d_sz = get_d_sz(pi_s, pi_z)\n",
    "    d_sz_h.append(d_sz)\n",
    "    \n",
    "    # update Z_sb\n",
    "    Z_sb = np.zeros((n_states))\n",
    "    for s in range(n_states):\n",
    "        for z in range(n_latent):\n",
    "            Z_sb[s] += p_z[z] * np.exp(-beta * d_sz[s,z])\n",
    "    \n",
    "    # update rho_zs\n",
    "    for s in range(n_states):\n",
    "        for z in range(n_latent):\n",
    "            rho_zs[z,s] = (p_z[z]/Z_sb[s]) * np.exp(-beta * d_sz[s,z])\n",
    "    \n",
    "    # update p_z\n",
    "    p_z = np.zeros(n_latent)\n",
    "    for z in range(n_latent):\n",
    "        for s in range(n_states):\n",
    "            p_z[z] += rho_zs[z,s] * p_s\n",
    "    \n",
    "    # update pi_z\n",
    "    pi_z = np.zeros((n_actions, n_latent))\n",
    "    for a in range(n_actions):\n",
    "        for z in range(n_latent):\n",
    "            for s in range(n_states):\n",
    "                pi_z[a,z] +=  p_s * pi_s[a,s] * rho_zs[z,s] / p_z[z]\n",
    "    \n",
    "    #print(t, p_z.sum(), pi_z.sum())\n",
    "    \n",
    "    # keeping the histories\n",
    "    p_z_h.append(p_z)\n",
    "    rho_zs_h.append(rho_zs)\n",
    "    pi_z_h.append(pi_z)\n",
    "    kldiv_h.append(KL_div(pi_s, pi_z))\n",
    "    z_sb_h.append(Z_sb)\n",
    "    pi_s_h.append(pi_s)\n",
    "\n",
    "d_sz_h = np.asarray(d_sz_h)\n",
    "p_z_h = np.asarray(p_z_h)\n",
    "rho_zs_h = np.asarray(rho_zs_h)\n",
    "pi_z_h = np.asarray(pi_z_h)\n",
    "pi_s_h = np.asarray(pi_s_h)\n",
    "kldiv_h = np.asarray(kldiv_h)\n",
    "z_sb_h = np.asarray(z_sb_h)\n",
    "\n",
    "fig = plt.figure(figsize = [7,7])\n",
    "\n",
    "gs = GridSpec(2, 2)\n",
    "ax1 = fig.add_subplot(gs[0])\n",
    "ax2 = fig.add_subplot(gs[1])\n",
    "ax3 = fig.add_subplot(gs[2])\n",
    "ax4 = fig.add_subplot(gs[3])\n",
    "\n",
    "ax1.imshow(pi_s, cmap = 'Blues')\n",
    "ax2.imshow(pi_z_h[-1], cmap = 'Blues')\n",
    "ax3.imshow(d_sz_h[-1].T, cmap = 'Blues')\n",
    "ax4.plot(kldiv_h, 'k')\n",
    "ax1.set_title('pi_s')\n",
    "ax2.set_title('pi_z')\n",
    "ax3.set_title('d_sz')\n",
    "ax4.set_title('kl')\n",
    "ax1.tick_params(labelbottom=False, labelleft=False)\n",
    "ax2.tick_params(labelbottom=False, labelleft=False)\n",
    "ax3.tick_params(labelbottom=False, labelleft=False)\n",
    "plt.show()"
   ]
  },
  {
   "cell_type": "code",
   "execution_count": 9,
   "id": "2d96daa3-0eba-4a25-bf78-a85664b439be",
   "metadata": {},
   "outputs": [
    {
     "data": {
      "text/plain": [
       "array([[0.23968064, 0.01031936],\n",
       "       [0.01031936, 0.23968064]])"
      ]
     },
     "execution_count": 9,
     "metadata": {},
     "output_type": "execute_result"
    }
   ],
   "source": [
    "pi_z_h[-1]"
   ]
  },
  {
   "cell_type": "code",
   "execution_count": 10,
   "id": "f34ea5a1-30c4-4403-adcb-048df8d3d711",
   "metadata": {},
   "outputs": [
    {
     "data": {
      "text/plain": [
       "<matplotlib.image.AxesImage at 0x11ea2ec50>"
      ]
     },
     "execution_count": 10,
     "metadata": {},
     "output_type": "execute_result"
    },
    {
     "data": {
      "image/png": "[encoded data removed]",
      "text/plain": [
       "<Figure size 432x288 with 1 Axes>"
      ]
     },
     "metadata": {
      "needs_background": "light"
     },
     "output_type": "display_data"
    }
   ],
   "source": [
    "plt.imshow(pi_z_h[-1], 'Blues')"
   ]
  },
  {
   "cell_type": "code",
   "execution_count": 8,
   "id": "53b081c1-e7e2-405c-8374-8a7b1c388c57",
   "metadata": {},
   "outputs": [
    {
     "data": {
      "text/plain": [
       "<matplotlib.image.AxesImage at 0x11e933d30>"
      ]
     },
     "execution_count": 8,
     "metadata": {},
     "output_type": "execute_result"
    },
    {
     "data": {
      "image/png": "[encoded data removed]",
      "text/plain": [
       "<Figure size 432x288 with 1 Axes>"
      ]
     },
     "metadata": {
      "needs_background": "light"
     },
     "output_type": "display_data"
    }
   ],
   "source": [
    "plt.imshow(np.asarray([[0.25,0.25],[0.25,0.25]]), 'Blues')"
   ]
  },
  {
   "cell_type": "code",
   "execution_count": 94,
   "id": "03e602cb",
   "metadata": {},
   "outputs": [
    {
     "data": {
      "image/png": "[encoded data removed]",
      "text/plain": [
       "<Figure size 432x288 with 1 Axes>"
      ]
     },
     "metadata": {
      "needs_background": "light"
     },
     "output_type": "display_data"
    },
    {
     "data": {
      "image/png": "[encoded data removed]",
      "text/plain": [
       "<Figure size 432x288 with 1 Axes>"
      ]
     },
     "metadata": {
      "needs_background": "light"
     },
     "output_type": "display_data"
    }
   ],
   "source": [
    "ax = plt.subplot(111)\n",
    "ax.plot(pi_z_h[:,0,0], 'k', label = 'a = 0')\n",
    "ax.plot(pi_z_h[:,0,1], 'k--', label = 'a = 1')\n",
    "ax.set_xlabel('step')\n",
    "ax.set_ylabel('$\\pi_z(a|0)$')\n",
    "ax.spines['right'].set_visible(False)\n",
    "ax.spines['top'].set_visible(False)\n",
    "ax.legend()\n",
    "plt.show()\n",
    "\n",
    "ax = plt.subplot(111)\n",
    "ax.plot(pi_z_h[:,1,0], 'k', label = 'a = 0')\n",
    "ax.plot(pi_z_h[:,1,1], 'k--',label = 'a = 1')\n",
    "ax.set_xlabel('step')\n",
    "ax.set_ylabel('$\\pi_z(a|1)$')\n",
    "ax.spines['right'].set_visible(False)\n",
    "ax.spines['top'].set_visible(False)\n",
    "ax.legend()\n",
    "plt.show()"
   ]
  },
  {
   "cell_type": "markdown",
   "id": "47ce7956",
   "metadata": {},
   "source": [
    "## undersanding the distance metric $d(s,z)$"
   ]
  },
  {
   "cell_type": "code",
   "execution_count": 290,
   "id": "c3f6f2a7-d9ed-48fe-9955-3be2c92f871b",
   "metadata": {},
   "outputs": [],
   "source": [
    "## global variables\n",
    "n_states = 2 # definition of s\n",
    "n_latent = 2 # definition of z\n",
    "n_actions = 2 # definition of a\n",
    "\n",
    "\n",
    "\n",
    "pi_s = 0.001 * np.ones((n_actions, n_states))\n",
    "#pi_s[0,0] = 1-beta\n",
    "#pi_s[1,1] = 1-alpha\n",
    "pi_s = normalize_dist(pi_s)\n",
    "\n",
    "beta = 0.1\n",
    "alpha = 0.1\n",
    "pi_z = 0.001 * np.ones((n_actions, n_latent))\n",
    "pi_z[0,0] = 0.001+beta\n",
    "pi_z[1,1] = 0.001+alpha\n",
    "pi_z = normalize_dist(pi_z)"
   ]
  },
  {
   "cell_type": "code",
   "execution_count": 291,
   "id": "54cec103-73df-462c-a150-e27669d93bec",
   "metadata": {},
   "outputs": [
    {
     "data": {
      "text/plain": [
       "array([[0.25, 0.25],\n",
       "       [0.25, 0.25]])"
      ]
     },
     "execution_count": 291,
     "metadata": {},
     "output_type": "execute_result"
    }
   ],
   "source": [
    "pi_s"
   ]
  },
  {
   "cell_type": "code",
   "execution_count": 292,
   "id": "5c7b5a40-0dad-4633-8efa-eab906ad89bf",
   "metadata": {},
   "outputs": [
    {
     "data": {
      "text/plain": [
       "array([[0.49509804, 0.00490196],\n",
       "       [0.00490196, 0.49509804]])"
      ]
     },
     "execution_count": 292,
     "metadata": {},
     "output_type": "execute_result"
    }
   ],
   "source": [
    "pi_z"
   ]
  },
  {
   "cell_type": "code",
   "execution_count": 279,
   "id": "2a285411-9acd-4d4b-8233-ec9759dacc24",
   "metadata": {},
   "outputs": [
    {
     "data": {
      "text/plain": [
       "array([[-0.2450495,  0.2450495],\n",
       "       [ 0.2450495, -0.2450495]])"
      ]
     },
     "execution_count": 279,
     "metadata": {},
     "output_type": "execute_result"
    }
   ],
   "source": [
    "pi_s - pi_z"
   ]
  },
  {
   "cell_type": "code",
   "execution_count": 307,
   "id": "3dad00f4-8f3b-4fe0-ad38-1e47d2087f9e",
   "metadata": {},
   "outputs": [],
   "source": [
    "d_sz = np.zeros((n_states, n_latent))\n",
    "log_sz = np.zeros((n_states, n_latent))\n",
    "kl_sza = 0\n",
    "for s in range(n_states):\n",
    "    for z in range(n_latent):\n",
    "        for a in range(n_actions):\n",
    "            d_sz[s,z] += pi_z[a, z] * np.log(pi_z[a,z]/pi_s[a,s])\n",
    "            log_sz[s,z] += np.log(pi_z[a,z]/pi_s[a,s])\n",
    "            kl_sza += pi_z[a, z] * np.log(pi_z[a,z]/pi_s[a,s])"
   ]
  },
  {
   "cell_type": "code",
   "execution_count": 308,
   "id": "d5162640-b304-456d-9269-67fb1e39a36c",
   "metadata": {},
   "outputs": [
    {
     "data": {
      "text/plain": [
       "2.720784508325146"
      ]
     },
     "execution_count": 308,
     "metadata": {},
     "output_type": "execute_result"
    }
   ],
   "source": [
    "kl_sza"
   ]
  },
  {
   "cell_type": "code",
   "execution_count": 322,
   "id": "e44b34b2-f3b0-4cd7-b935-9e62d3dc7e3f",
   "metadata": {},
   "outputs": [],
   "source": [
    "kl_sza = []\n",
    "x = np.linspace(0.1,2,50)\n",
    "for i,beta in enumerate(x):\n",
    "    kl_sza.append([0])\n",
    "    pi_z = 0.001 * np.ones((n_actions, n_latent))\n",
    "    pi_z[0,0] = 0.001+beta\n",
    "    pi_z = normalize_dist(pi_z)\n",
    "    for s in range(n_states):\n",
    "        for z in range(n_latent):\n",
    "            for a in range(n_actions):\n",
    "                kl_sza[i] += pi_z[a, z] * np.log(pi_z[a,z]/pi_s[a,s])"
   ]
  },
  {
   "cell_type": "code",
   "execution_count": 323,
   "id": "22d5ca70-193e-41e5-86c7-88cc24727308",
   "metadata": {},
   "outputs": [
    {
     "data": {
      "text/plain": [
       "[<matplotlib.lines.Line2D at 0x121964ac8>]"
      ]
     },
     "execution_count": 323,
     "metadata": {},
     "output_type": "execute_result"
    },
    {
     "data": {
      "image/png": "[encoded data removed]",
      "text/plain": [
       "<Figure size 432x288 with 1 Axes>"
      ]
     },
     "metadata": {
      "needs_background": "light"
     },
     "output_type": "display_data"
    }
   ],
   "source": [
    "plt.plot(x, kl_sza)"
   ]
  },
  {
   "cell_type": "code",
   "execution_count": 281,
   "id": "6671f642-ccd5-4999-bf4b-bd1bb7c6b0aa",
   "metadata": {},
   "outputs": [
    {
     "data": {
      "text/plain": [
       "1.275202210582107"
      ]
     },
     "execution_count": 281,
     "metadata": {},
     "output_type": "execute_result"
    }
   ],
   "source": [
    "kl_sza"
   ]
  },
  {
   "cell_type": "code",
   "execution_count": 282,
   "id": "6fa2a869-a0ac-4d63-87f9-e739c7894ccd",
   "metadata": {},
   "outputs": [
    {
     "data": {
      "text/plain": [
       "array([[-3.23877649, -3.23877649],\n",
       "       [-3.23877649, -3.23877649]])"
      ]
     },
     "execution_count": 282,
     "metadata": {},
     "output_type": "execute_result"
    }
   ],
   "source": [
    "log_sz"
   ]
  },
  {
   "cell_type": "code",
   "execution_count": 283,
   "id": "6509b1fa-9ab6-4d07-9955-cce1d2449ac2",
   "metadata": {},
   "outputs": [
    {
     "data": {
      "text/plain": [
       "array([[0.31880055, 0.31880055],\n",
       "       [0.31880055, 0.31880055]])"
      ]
     },
     "execution_count": 283,
     "metadata": {},
     "output_type": "execute_result"
    }
   ],
   "source": [
    "d_sz"
   ]
  },
  {
   "cell_type": "code",
   "execution_count": 74,
   "id": "a021a2a5-bd69-4ca9-8d7c-c35a4de5d360",
   "metadata": {},
   "outputs": [
    {
     "data": {
      "image/png": "[encoded data removed]",
      "text/plain": [
       "<Figure size 504x504 with 3 Axes>"
      ]
     },
     "metadata": {
      "needs_background": "light"
     },
     "output_type": "display_data"
    }
   ],
   "source": [
    "fig = plt.figure(figsize = [7,7])\n",
    "\n",
    "gs = GridSpec(2, 2)\n",
    "ax1 = fig.add_subplot(gs[0])\n",
    "ax2 = fig.add_subplot(gs[1])\n",
    "ax3 = fig.add_subplot(gs[2])\n",
    "\n",
    "d_sz = get_d_sz(pi_s, pi_z)\n",
    "ax1.imshow(pi_s, cmap = 'Blues')\n",
    "ax2.imshow(pi_z, cmap = 'Blues')\n",
    "ax3.imshow(d_sz.T, cmap = 'Blues')\n",
    "ax1.set_title('pi_s')\n",
    "ax2.set_title('pi_z')\n",
    "ax3.set_title('d_sz')\n",
    "ax1.tick_params(labelbottom=False, labelleft=False)\n",
    "ax2.tick_params(labelbottom=False, labelleft=False)\n",
    "plt.show()"
   ]
  },
  {
   "cell_type": "markdown",
   "id": "4011fa34-5365-42d2-bfaa-f96507981495",
   "metadata": {},
   "source": [
    "# running IB multiple times, average over $\\pi_z$"
   ]
  },
  {
   "cell_type": "code",
   "execution_count": null,
   "id": "141a19a7-19e0-40b0-aeed-f3bab4d86b5b",
   "metadata": {},
   "outputs": [],
   "source": [
    "def run_IB(n_iters):\n",
    "    \n",
    "    pi_z_trials = []\n",
    "    \n",
    "    for n in range(n_iters):\n",
    "        \n",
    "        # global variables\n",
    "        n_states = 4 # definition of s\n",
    "        n_latent = 2 # definition of z\n",
    "        n_actions = 2 # definition of a\n",
    "\n",
    "        # iterative functions\n",
    "        p_s = 1/n_states - 0.001 # uniform probability for each state - added help of normalization\n",
    "        p_z = np.array([0.25,0.25])\n",
    "        p_z = normalize_dist(p_z)\n",
    "\n",
    "        pi_s = 0.001 * np.ones((n_actions, n_states))\n",
    "        pi_s[0,0:int(n_states/2)] = 1\n",
    "        pi_s[1,int(n_states/2):n_states] = 1\n",
    "        pi_s = normalize_dist(pi_s)\n",
    "        pi_z = normalize_dist(np.random.uniform(0,1,(n_latent, n_actions)))\n",
    "\n",
    "        d_sz = np.zeros((n_states, n_latent))\n",
    "        Z_sb = np.zeros((n_states))\n",
    "        rho_zs = np.zeros((n_latent, n_states))\n",
    "\n",
    "        beta = 2.5\n",
    "        n_steps = 100 # number of iterative steps\n",
    "\n",
    "        for t in range(n_steps):\n",
    "\n",
    "            d_sz = get_d_sz(pi_s, pi_z)\n",
    "\n",
    "            # update Z_sb\n",
    "            Z_sb = np.zeros((n_states))\n",
    "            for s in range(n_states):\n",
    "                for z in range(n_latent):\n",
    "                    Z_sb[s] += p_z[z] * np.exp(-beta * d_sz[s,z])\n",
    "\n",
    "            # update rho_zs\n",
    "            for s in range(n_states):\n",
    "                for z in range(n_latent):\n",
    "                    rho_zs[z,s] = (p_z[z]/Z_sb[s]) * np.exp(-beta * d_sz[s,z])\n",
    "\n",
    "            # update p_z\n",
    "            p_z = np.zeros(n_latent)\n",
    "            for z in range(n_latent):\n",
    "                for s in range(n_states):\n",
    "                    p_z[z] += rho_zs[z,s] * p_s\n",
    "\n",
    "            # update pi_z\n",
    "            pi_z = np.zeros((n_actions, n_latent))\n",
    "            for a in range(n_actions):\n",
    "                for z in range(n_latent):\n",
    "                    for s in range(n_states):\n",
    "                        pi_z[a,z] +=  p_s * pi_s[a,s] * rho_zs[z,s] / p_z[z]\n",
    "\n",
    "        pi_z_trials.append(pi_z)\n",
    "                          \n",
    "    return np.asarray(pi_z_trials)"
   ]
  },
  {
   "cell_type": "code",
   "execution_count": null,
   "id": "771f72e6-77dd-4b52-95b6-7fe82441d7fe",
   "metadata": {},
   "outputs": [],
   "source": [
    "pi_z_t = run_IB(1000)"
   ]
  },
  {
   "cell_type": "code",
   "execution_count": null,
   "id": "cf7e4903-b91d-427c-a0a8-421226ebe41c",
   "metadata": {},
   "outputs": [],
   "source": [
    "np.mean(pi_z_t, axis = 0)"
   ]
  },
  {
   "cell_type": "code",
   "execution_count": 84,
   "id": "27d1478f-fb98-4755-bcf5-553a8001787c",
   "metadata": {},
   "outputs": [
    {
     "data": {
      "text/plain": [
       "<matplotlib.image.AxesImage at 0x12021c978>"
      ]
     },
     "execution_count": 84,
     "metadata": {},
     "output_type": "execute_result"
    },
    {
     "data": {
      "image/png": "[encoded data removed]",
      "text/plain": [
       "<Figure size 432x288 with 1 Axes>"
      ]
     },
     "metadata": {
      "needs_background": "light"
     },
     "output_type": "display_data"
    }
   ],
   "source": [
    "plt.imshow(np.mean(pi_z_t, axis = 0), 'Blues')"
   ]
  },
  {
   "cell_type": "markdown",
   "id": "1c2bd3e6-829c-497a-b356-f743477222ad",
   "metadata": {},
   "source": [
    "* at 30 iters very reliable\n",
    "* at 100 less so, 1000 almost random (?)\n",
    "* what's with the convergence properties of this algorithm?\n",
    "* how does it scale with number of states?\n",
    "    * doesn't converge with 100 trials - increase n_steps"
   ]
  },
  {
   "cell_type": "code",
   "execution_count": null,
   "id": "6f037791-6bbd-4662-a4d6-8517e5c5c6b7",
   "metadata": {},
   "outputs": [],
   "source": []
  }
 ],
 "metadata": {
  "kernelspec": {
   "display_name": "Python 3",
   "language": "python",
   "name": "python3"
  },
  "language_info": {
   "codemirror_mode": {
    "name": "ipython",
    "version": 3
   },
   "file_extension": ".py",
   "mimetype": "text/x-python",
   "name": "python",
   "nbconvert_exporter": "python",
   "pygments_lexer": "ipython3",
   "version": "3.6.10"
  }
 },
 "nbformat": 4,
 "nbformat_minor": 5
}
